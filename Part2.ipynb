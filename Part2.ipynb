{
 "cells": [
  {
   "cell_type": "code",
   "execution_count": null,
   "id": "e9320d32-a4fe-44a1-b30c-79ac05e152e6",
   "metadata": {},
   "outputs": [],
   "source": [
    "import json\n",
    "import string\n",
    "import nltk\n",
    "\n",
    "def main():\n",
    "    with open('Data.json', 'r') as File:\n",
    "        Data = json.load(File)\n",
    "\n",
    "    Results = []\n",
    "    # nltk.download('stopwords')\n",
    "    Stopwords = nltk.corpus.stopwords.words('english')\n",
    "    Punctuation = string.punctuation\n",
    "    for Json in Data:\n",
    "        Words = Json['Content'].split()\n",
    "        Words = [w.lower() for w in Words]\n",
    "        FirstFilter = [''.join(letter for letter in Word if letter not in Punctuation) for Word in Words]\n",
    "        SecondFilter = [Word for Word in FirstFilter if Word.lower() not in Stopwords]\n",
    "        Results.append(SecondFilter)\n",
    "\n",
    "    with open(\"Data2.json\", \"w\") as File:\n",
    "        json.dump(Results, File, indent=4)\n",
    "    print(\"Data successfully saved on Data2.json\")\n",
    "    \n",
    "if __name__ == \"__main__\":\n",
    "    main()"
   ]
  }
 ],
 "metadata": {
  "kernelspec": {
   "display_name": "Python 3",
   "language": "python",
   "name": "python3"
  },
  "language_info": {
   "codemirror_mode": {
    "name": "ipython",
    "version": 3
   },
   "file_extension": ".py",
   "mimetype": "text/x-python",
   "name": "python",
   "nbconvert_exporter": "python",
   "pygments_lexer": "ipython3",
   "version": "3.11.9"
  }
 },
 "nbformat": 4,
 "nbformat_minor": 5
}
