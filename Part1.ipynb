{
 "cells": [
  {
   "cell_type": "code",
   "execution_count": null,
   "id": "a509a11e-1174-4cd8-a6df-c97b28f2bc83",
   "metadata": {},
   "outputs": [],
   "source": [
    "import requests\n",
    "import json\n",
    "from bs4 import BeautifulSoup\n",
    "\n",
    "def WebCrawler(Url):\n",
    "    try:\n",
    "        OpenURL = requests.get(Url)\n",
    "        Redirected = OpenURL.url\n",
    "        soup = BeautifulSoup(OpenURL.text, 'html.parser')\n",
    "\n",
    "        Title = soup.find('h1').string\n",
    "        Content = \"\".join(p.text.strip() for p in soup.find_all('p'))\n",
    "        \n",
    "        print(\"Scraped Successfully\")\n",
    "        return {\n",
    "            'Url': Redirected,\n",
    "            'Title': Title,\n",
    "            'Content': Content\n",
    "        }\n",
    "    except Exception as e:\n",
    "        print(f\"Failed to scrape {e}\")\n",
    "\n",
    "def main():\n",
    "    Urls = [\"https://en.wikipedia.org/wiki/Special:Random\" for _ in range(4)]\n",
    "    \n",
    "    Results = []\n",
    "    for Url in Urls:\n",
    "        \n",
    "        Data = WebCrawler(Url)\n",
    "        if Data:\n",
    "            Results.append(Data)\n",
    "\n",
    "    with open(\"Data.json\", \"w\") as File:\n",
    "        json.dump(Results, File, indent=4)\n",
    "    print(\"Data successfully saved on Data.json\")\n",
    "    \n",
    "if __name__ == \"__main__\":\n",
    "    main()"
   ]
  }
 ],
 "metadata": {
  "kernelspec": {
   "display_name": "Python 3",
   "language": "python",
   "name": "python3"
  },
  "language_info": {
   "codemirror_mode": {
    "name": "ipython",
    "version": 3
   },
   "file_extension": ".py",
   "mimetype": "text/x-python",
   "name": "python",
   "nbconvert_exporter": "python",
   "pygments_lexer": "ipython3",
   "version": "3.11.9"
  }
 },
 "nbformat": 4,
 "nbformat_minor": 5
}
