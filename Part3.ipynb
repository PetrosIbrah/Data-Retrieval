{
 "cells": [
  {
   "cell_type": "code",
   "execution_count": null,
   "id": "3300ba05-b488-465b-864b-f3a0bad48a9c",
   "metadata": {},
   "outputs": [],
   "source": [
    "import json\n",
    "from collections import defaultdict\n",
    "\n",
    "def InvertedIndex(Data):\n",
    "    \n",
    "    II = defaultdict(list)\n",
    "    for WikiId, Words in enumerate(Data):\n",
    "        for Word in Words:\n",
    "            if WikiId not in II[Word]:\n",
    "                II[Word].append(WikiId)\n",
    "\n",
    "    return dict(II)\n",
    "\n",
    "def main():\n",
    "    with open('Data2.json', 'r') as File:\n",
    "        Data = json.load(File)\n",
    "    \n",
    "    Results = []\n",
    "    Results = InvertedIndex(Data)\n",
    "    \n",
    "    with open(\"Data3.json\", \"w\") as File:\n",
    "        json.dump(Results, File, indent=4)\n",
    "    print(\"Inverted Indexes have succefully been saved on Data3.json\")\n",
    "        \n",
    "if __name__ == \"__main__\":\n",
    "    main()"
   ]
  }
 ],
 "metadata": {
  "kernelspec": {
   "display_name": "Python 3",
   "language": "python",
   "name": "python3"
  },
  "language_info": {
   "codemirror_mode": {
    "name": "ipython",
    "version": 3
   },
   "file_extension": ".py",
   "mimetype": "text/x-python",
   "name": "python",
   "nbconvert_exporter": "python",
   "pygments_lexer": "ipython3",
   "version": "3.11.9"
  }
 },
 "nbformat": 4,
 "nbformat_minor": 5
}
